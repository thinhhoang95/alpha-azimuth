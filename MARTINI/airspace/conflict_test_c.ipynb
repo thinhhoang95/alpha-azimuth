{
 "cells": [
  {
   "cell_type": "code",
   "execution_count": 1,
   "metadata": {},
   "outputs": [
    {
     "name": "stdout",
     "output_type": "stream",
     "text": [
      "Project path: /Users/thinhhoang/Documents/alpha-azimuth/\n"
     ]
    }
   ],
   "source": [
    "%load_ext autoreload\n",
    "%autoreload 2\n",
    "\n",
    "import os\n",
    "from dotenv import load_dotenv\n",
    "\n",
    "# Load environment variables from .env file\n",
    "load_dotenv(\"../../azimuth.env\")\n",
    "\n",
    "# Add PATH_ROOT to Python path\n",
    "import sys\n",
    "sys.path.append(os.getenv(\"PATH_ROOT\"))\n",
    "\n",
    "print(f'Project path: {os.getenv(\"PATH_ROOT\")}')\n",
    "\n",
    "import numpy as np\n",
    "from VERICONF import conflict_checker\n",
    "from MARTINI.airspace.conflict_cartesian import check_conflicts\n",
    "from MARTINI.definitions.trajectory import Trajectory as Trajectory_py\n"
   ]
  },
  {
   "cell_type": "code",
   "execution_count": 2,
   "metadata": {},
   "outputs": [],
   "source": [
    "def generate_random_trajectories(n_trajectories):\n",
    "    # Define realistic bounds for the parameters\n",
    "    LAT_BOUNDS = (30.0, 45.0)  # Continental US approximate bounds\n",
    "    LON_BOUNDS = (-125.0, -70.0)\n",
    "    ALT_BOUNDS = (20000, 40000)  # Typical cruise altitudes in feet\n",
    "    SPEED_BOUNDS = (350 * 1.852 / 3600, 500 * 1.852 / 3600)    # Typical aircraft speeds in km/s\n",
    "    WAYPOINTS_PER_TRAJ = 3       # Number of waypoints per trajectory\n",
    "\n",
    "    trajectories = []\n",
    "    \n",
    "    for _ in range(n_trajectories):\n",
    "        # Generate random waypoints with a general direction (west to east)\n",
    "        start_lon = np.random.uniform(LON_BOUNDS[0], LON_BOUNDS[0] + 20)\n",
    "        start_lat = np.random.uniform(*LAT_BOUNDS)\n",
    "        \n",
    "        waypoints = []\n",
    "        for i in range(WAYPOINTS_PER_TRAJ):\n",
    "            lon = start_lon + i * 5 + np.random.uniform(-2, 2)  # General west-to-east movement\n",
    "            lat = start_lat + np.random.uniform(-2, 2)\n",
    "            waypoints.append((lat, lon))\n",
    "        \n",
    "        # Generate ascending altitudes\n",
    "        # start_alt = np.random.uniform(*ALT_BOUNDS)\n",
    "        # altitudes = [\n",
    "        #     start_alt + i * np.random.uniform(0, 1000)\n",
    "        #     for i in range(WAYPOINTS_PER_TRAJ)\n",
    "        # ]\n",
    "        altitudes = [29000] * WAYPOINTS_PER_TRAJ\n",
    "        \n",
    "        # Generate reasonable speeds\n",
    "        start_speed = np.random.uniform(*SPEED_BOUNDS)\n",
    "        speeds = [\n",
    "            start_speed + i * np.random.uniform(-20 * 1.852 / 3600, 20 * 1.852 / 3600)\n",
    "            for i in range(WAYPOINTS_PER_TRAJ)\n",
    "        ]\n",
    "        \n",
    "        # Random wake turbulence category (1-4)\n",
    "        cat = np.random.randint(1, 5)\n",
    "        \n",
    "        traj = Trajectory_py(waypoints, altitudes, speeds, cat)\n",
    "        trajectories.append(traj)\n",
    "    \n",
    "    return trajectories"
   ]
  },
  {
   "cell_type": "markdown",
   "metadata": {},
   "source": [
    "# VERICONF Testing"
   ]
  },
  {
   "cell_type": "code",
   "execution_count": 8,
   "metadata": {},
   "outputs": [
    {
     "name": "stdout",
     "output_type": "stream",
     "text": [
      "There are 1000 trajectories\n",
      "(VERICONF) Conflict checking time: 329.4830 ms\n",
      "There are 1092 conflicts\n"
     ]
    }
   ],
   "source": [
    "# Generate 1000 trajectories\n",
    "trajectories = generate_random_trajectories(1000)\n",
    "\n",
    "# Convert to C++ Trajectory structs\n",
    "cpp_trajectories = []\n",
    "for traj in trajectories:\n",
    "    cpp_traj = conflict_checker.Trajectory(\n",
    "        traj.waypoints.tolist(),\n",
    "        traj.altitudes.tolist(),\n",
    "        traj.speeds.tolist(),\n",
    "        str(traj.cat),\n",
    "        0.0\n",
    "    )\n",
    "    cpp_trajectories.append(cpp_traj)\n",
    "\n",
    "print(f'There are {len(cpp_trajectories)} trajectories')\n",
    "# Check for conflicts\n",
    "import time\n",
    "\n",
    "start_time = time.time()\n",
    "conflicts = conflict_checker.check_conflicts(cpp_trajectories)\n",
    "end_time = time.time()\n",
    "\n",
    "print(f\"(VERICONF) Conflict checking time: {(end_time - start_time) * 1000:.4f} ms\")\n",
    "print(f'There are {len(conflicts)} conflicts')"
   ]
  },
  {
   "cell_type": "code",
   "execution_count": 5,
   "metadata": {},
   "outputs": [
    {
     "data": {
      "text/html": [
       "\n",
       "<style>\n",
       "table {border-collapse: collapse; width: 100%;}\n",
       "th, td {padding: 8px; text-align: left; border-bottom: 1px solid #ddd;}\n",
       "th {background-color: #f2f2f2;}\n",
       "tr:hover {background-color: #f5f5f5;}\n",
       "</style>\n",
       "<table><tr><th>Trajectory 1</th><th>Trajectory 2</th><th>Segment 1</th><th>Segment 2</th><th>Time (s)</th></tr><tr><td>0</td><td>101</td><td>0</td><td>0</td><td>175.45</td></tr><tr><td>0</td><td>349</td><td>1</td><td>1</td><td>2560.59</td></tr><tr><td>1</td><td>617</td><td>0</td><td>1</td><td>2288.19</td></tr><tr><td>2</td><td>459</td><td>0</td><td>0</td><td>1262.48</td></tr><tr><td>2</td><td>557</td><td>0</td><td>0</td><td>1548.60</td></tr><tr><td>3</td><td>44</td><td>1</td><td>1</td><td>4252.98</td></tr><tr><td>3</td><td>166</td><td>0</td><td>0</td><td>421.82</td></tr><tr><td>3</td><td>326</td><td>0</td><td>0</td><td>79.82</td></tr><tr><td>3</td><td>405</td><td>1</td><td>1</td><td>4481.88</td></tr><tr><td>5</td><td>48</td><td>0</td><td>0</td><td>861.63</td></tr></table>\n"
      ],
      "text/plain": [
       "<IPython.core.display.HTML object>"
      ]
     },
     "metadata": {},
     "output_type": "display_data"
    }
   ],
   "source": [
    "from IPython.display import display, HTML\n",
    "\n",
    "# Create HTML table for conflicts\n",
    "html = \"<table><tr><th>Trajectory 1</th><th>Trajectory 2</th><th>Segment 1</th><th>Segment 2</th><th>Time (s)</th></tr>\"\n",
    "for conflict in conflicts[:10]:\n",
    "    traj1, traj2, seg1, seg2, time = conflict\n",
    "    html += f\"<tr><td>{traj1}</td><td>{traj2}</td><td>{seg1}</td><td>{seg2}</td><td>{time:.2f}</td></tr>\"\n",
    "html += \"</table>\"\n",
    "\n",
    "# Add some CSS styling\n",
    "html = f\"\"\"\n",
    "<style>\n",
    "table {{border-collapse: collapse; width: 100%;}}\n",
    "th, td {{padding: 8px; text-align: left; border-bottom: 1px solid #ddd;}}\n",
    "th {{background-color: #f2f2f2;}}\n",
    "tr:hover {{background-color: #f5f5f5;}}\n",
    "</style>\n",
    "{html}\n",
    "\"\"\"\n",
    "\n",
    "display(HTML(html))"
   ]
  },
  {
   "cell_type": "markdown",
   "metadata": {},
   "source": [
    "# PyVeriConf Testing"
   ]
  },
  {
   "cell_type": "code",
   "execution_count": 9,
   "metadata": {},
   "outputs": [
    {
     "name": "stdout",
     "output_type": "stream",
     "text": [
      "Execution time for check_conflicts: 15.9944 seconds\n",
      "There are 1092 conflicts\n"
     ]
    }
   ],
   "source": [
    "\n",
    "import time\n",
    "\n",
    "start_time = time.time()\n",
    "conflicts = check_conflicts(trajectories)\n",
    "end_time = time.time()\n",
    "execution_time = end_time - start_time\n",
    "print(f\"Execution time for check_conflicts: {execution_time:.4f} seconds\")\n",
    "print(f'There are {len(conflicts)} conflicts')"
   ]
  },
  {
   "cell_type": "code",
   "execution_count": 7,
   "metadata": {},
   "outputs": [
    {
     "name": "stdout",
     "output_type": "stream",
     "text": [
      "Conflict between Trajectory 0 Segment 0 and Trajectory 101 Segment 0 at t=175.45s\n",
      "Conflict between Trajectory 0 Segment 1 and Trajectory 349 Segment 1 at t=2560.59s\n",
      "Conflict between Trajectory 1 Segment 0 and Trajectory 617 Segment 1 at t=2288.19s\n",
      "Conflict between Trajectory 2 Segment 0 and Trajectory 459 Segment 0 at t=1262.48s\n",
      "Conflict between Trajectory 2 Segment 0 and Trajectory 557 Segment 0 at t=1548.60s\n",
      "Conflict between Trajectory 3 Segment 1 and Trajectory 44 Segment 1 at t=4252.98s\n",
      "Conflict between Trajectory 3 Segment 0 and Trajectory 166 Segment 0 at t=421.82s\n",
      "Conflict between Trajectory 3 Segment 0 and Trajectory 326 Segment 0 at t=79.82s\n",
      "Conflict between Trajectory 3 Segment 1 and Trajectory 405 Segment 1 at t=4481.88s\n",
      "Conflict between Trajectory 5 Segment 0 and Trajectory 48 Segment 0 at t=861.63s\n"
     ]
    }
   ],
   "source": [
    "# Display first 10 conflicts\n",
    "for conflict in conflicts[:10]:\n",
    "    traj1_idx, traj2_idx, seg1_idx, seg2_idx, t_lb = conflict\n",
    "    print(f\"Conflict between Trajectory {traj1_idx} Segment {seg1_idx} and Trajectory {traj2_idx} Segment {seg2_idx} at t={t_lb:.2f}s\")\n"
   ]
  },
  {
   "cell_type": "markdown",
   "metadata": {},
   "source": [
    "# Simplified Testing"
   ]
  },
  {
   "cell_type": "code",
   "execution_count": null,
   "metadata": {},
   "outputs": [],
   "source": [
    "traj_perpendicular_wp = generate_random_trajectories(1)[0]\n",
    "# Replace the second waypoint of traj_perpendicular_wp with the second waypoint of traj_sample[0]\n",
    "traj_perpendicular_wp.waypoints[1] = trajectories[11].waypoints[1]"
   ]
  },
  {
   "cell_type": "code",
   "execution_count": null,
   "metadata": {},
   "outputs": [],
   "source": [
    "# Recompute the passing times\n",
    "traj_perpendicular_wp.compute_times(-904)"
   ]
  },
  {
   "cell_type": "markdown",
   "metadata": {},
   "source": [
    "# Conflict Inspection"
   ]
  },
  {
   "cell_type": "code",
   "execution_count": null,
   "metadata": {},
   "outputs": [],
   "source": [
    "# Pick the index 4 and 18\n",
    "traj_sample = trajectories[0], trajectories[714]\n",
    "print(traj_sample[0])\n",
    "print('*')\n",
    "print(traj_sample[1])\n"
   ]
  },
  {
   "cell_type": "code",
   "execution_count": null,
   "metadata": {},
   "outputs": [],
   "source": [
    "conflicts_sample = check_conflicts(traj_sample)\n",
    "print(f'There are {len(conflicts_sample)} conflicts')\n",
    "\n",
    "# Display the conflicts\n",
    "for conflict in conflicts_sample:\n",
    "    traj1_idx, traj2_idx, seg1_idx, seg2_idx, t_lb = conflict\n",
    "    print(f\"Conflict between Trajectory {traj1_idx} Segment {seg1_idx} and Trajectory {traj2_idx} Segment {seg2_idx} at t={t_lb:.2f}s\")\n"
   ]
  },
  {
   "cell_type": "code",
   "execution_count": null,
   "metadata": {},
   "outputs": [],
   "source": [
    "from matplotlib import pyplot as plt\n",
    "import cartopy.crs as ccrs\n",
    "\n",
    "# Get the bounds for the plot from the trajectories\n",
    "min_lon = min([traj.waypoints[:, 1].min() for traj in trajectories[:50]])\n",
    "max_lon = max([traj.waypoints[:, 1].max() for traj in trajectories[:50]])\n",
    "min_lat = min([traj.waypoints[:, 0].min() for traj in trajectories[:50]])\n",
    "max_lat = max([traj.waypoints[:, 0].max() for traj in trajectories[:50]])\n",
    "\n",
    "fig, ax = plt.subplots(figsize=(12, 8),subplot_kw={'projection': ccrs.PlateCarree()})\n",
    "ax.coastlines()\n",
    "import cartopy.feature as cfeature\n",
    "ax.add_feature(cfeature.LAND, edgecolor='black', alpha=0.3)\n",
    "\n",
    "\n",
    "traj_sample[0].plot(ax=ax, show_annotations=True)\n",
    "# trajectories[2].plot(ax=ax, show_annotations=False)\n",
    "traj_sample[1].plot(ax=ax, show_annotations=True)\n",
    "# trajectories[13].plot(ax=ax, show_annotations=False)\n",
    "\n",
    "# Set map bounds with some padding\n",
    "padding = 2  # degrees\n",
    "ax.set_extent([\n",
    "    min_lon - padding,\n",
    "    max_lon + padding,\n",
    "    min_lat - padding,\n",
    "    max_lat + padding\n",
    "])\n",
    "\n",
    "# Add gridlines\n",
    "gl = ax.gridlines(draw_labels=True, linewidth=1, color='gray', alpha=0.5, linestyle='--')\n",
    "gl.top_labels = False  # Don't show labels at top\n",
    "gl.right_labels = False  # Don't show labels at right\n",
    "\n",
    "\n",
    "\n",
    "\n",
    "plt.show()"
   ]
  },
  {
   "cell_type": "code",
   "execution_count": 21,
   "metadata": {},
   "outputs": [],
   "source": [
    "def distance_between_segments(traj1, traj2):\n",
    "    t_min = min(traj1.passing_time.min(), traj2.passing_time.min())\n",
    "    t_max = max(traj1.passing_time.max(), traj2.passing_time.max())\n",
    "    \n",
    "    t_span = np.arange(t_min, t_max, 1)\n",
    "    distances = []\n",
    "    \n",
    "    for t in t_span:\n",
    "        # 1. Find segments for each trajectory at time t\n",
    "        try:\n",
    "            seg1 = np.where(traj1.passing_time > t)[0][0] - 1\n",
    "        except IndexError:\n",
    "            seg1 = len(traj1.passing_time) - 2\n",
    "        try:\n",
    "            seg2 = np.where(traj2.passing_time > t)[0][0] - 1\n",
    "        except IndexError:\n",
    "            seg2 = len(traj2.passing_time) - 2\n",
    "        \n",
    "        # 2. Interpolate positions\n",
    "        # For trajectory 1\n",
    "        t1_start = traj1.passing_time[seg1]\n",
    "        t1_end = traj1.passing_time[seg1 + 1]\n",
    "        alpha1 = (t - t1_start) / (t1_end - t1_start)\n",
    "        pos1 = (1 - alpha1) * traj1.waypoints_xyz[seg1] + alpha1 * traj1.waypoints_xyz[seg1 + 1]\n",
    "        \n",
    "        # For trajectory 2\n",
    "        t2_start = traj2.passing_time[seg2]\n",
    "        t2_end = traj2.passing_time[seg2 + 1]\n",
    "        alpha2 = (t - t2_start) / (t2_end - t2_start)\n",
    "        pos2 = (1 - alpha2) * traj2.waypoints_xyz[seg2] + alpha2 * traj2.waypoints_xyz[seg2 + 1]\n",
    "        \n",
    "        # 3. Calculate distance\n",
    "        distance = np.linalg.norm(pos1 - pos2)\n",
    "        distances.append(distance)\n",
    "    \n",
    "    # 4. Plot the result\n",
    "    plt.figure(figsize=(10, 6))\n",
    "    plt.plot(t_span, distances)\n",
    "    plt.grid(True)\n",
    "    plt.xlabel('Time (s)')\n",
    "    plt.ylabel('Distance (km)')\n",
    "    plt.title('Distance Between Aircraft Over Time')\n",
    "    plt.show()\n",
    "    \n",
    "    return t_span, distances"
   ]
  },
  {
   "cell_type": "code",
   "execution_count": null,
   "metadata": {},
   "outputs": [],
   "source": [
    "t_span, distances = distance_between_segments(traj_sample[0], traj_sample[1])"
   ]
  },
  {
   "cell_type": "code",
   "execution_count": null,
   "metadata": {},
   "outputs": [],
   "source": []
  }
 ],
 "metadata": {
  "kernelspec": {
   "display_name": "deepflow",
   "language": "python",
   "name": "python3"
  },
  "language_info": {
   "codemirror_mode": {
    "name": "ipython",
    "version": 3
   },
   "file_extension": ".py",
   "mimetype": "text/x-python",
   "name": "python",
   "nbconvert_exporter": "python",
   "pygments_lexer": "ipython3",
   "version": "3.12.4"
  }
 },
 "nbformat": 4,
 "nbformat_minor": 2
}
