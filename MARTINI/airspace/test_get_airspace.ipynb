{
 "cells": [
  {
   "cell_type": "code",
   "execution_count": 1,
   "metadata": {},
   "outputs": [],
   "source": [
    "%load_ext autoreload\n",
    "%autoreload 2"
   ]
  },
  {
   "cell_type": "code",
   "execution_count": 2,
   "metadata": {},
   "outputs": [
    {
     "ename": "ModuleNotFoundError",
     "evalue": "No module named 'MARTINI'",
     "output_type": "error",
     "traceback": [
      "\u001b[0;31m---------------------------------------------------------------------------\u001b[0m",
      "\u001b[0;31mModuleNotFoundError\u001b[0m                       Traceback (most recent call last)",
      "Cell \u001b[0;32mIn[2], line 3\u001b[0m\n\u001b[1;32m      1\u001b[0m \u001b[38;5;66;03m# Testing airspace radius sampling\u001b[39;00m\n\u001b[0;32m----> 3\u001b[0m \u001b[38;5;28;01mimport\u001b[39;00m \u001b[38;5;21;01mMARTINI\u001b[39;00m\u001b[38;5;21;01m.\u001b[39;00m\u001b[38;5;21;01mairspace\u001b[39;00m\u001b[38;5;21;01m.\u001b[39;00m\u001b[38;5;21;01mrandomize_airspace\u001b[39;00m \u001b[38;5;28;01mas\u001b[39;00m \u001b[38;5;21;01mrandomize_airspace\u001b[39;00m\n\u001b[1;32m      4\u001b[0m \u001b[38;5;28;01mimport\u001b[39;00m \u001b[38;5;21;01mmatplotlib\u001b[39;00m\u001b[38;5;21;01m.\u001b[39;00m\u001b[38;5;21;01mpyplot\u001b[39;00m \u001b[38;5;28;01mas\u001b[39;00m \u001b[38;5;21;01mplt\u001b[39;00m\n\u001b[1;32m      5\u001b[0m radii \u001b[38;5;241m=\u001b[39m randomize_airspace\u001b[38;5;241m.\u001b[39msample_airspace_radius(\u001b[38;5;241m500\u001b[39m, beta\u001b[38;5;241m=\u001b[39m\u001b[38;5;241m3.0\u001b[39m, N\u001b[38;5;241m=\u001b[39m\u001b[38;5;241m1_000\u001b[39m)\n",
      "\u001b[0;31mModuleNotFoundError\u001b[0m: No module named 'MARTINI'"
     ]
    }
   ],
   "source": [
    "# Testing airspace radius sampling\n",
    "\n",
    "import MARTINI.airspace.randomize_airspace as randomize_airspace\n",
    "import matplotlib.pyplot as plt\n",
    "radii = randomize_airspace.sample_airspace_radius(500, beta=3.0, N=1_000)\n",
    "\n",
    "# Plot histogram of radii as PDF\n",
    "plt.hist(radii, bins=50, density=True, alpha=0.5, label='Sampled Distribution')\n",
    "plt.xlabel('Radius (km)')\n",
    "plt.ylabel('Probability Density')\n",
    "plt.title('PDF of Sampled Airspace Radii')\n",
    "plt.grid(True)\n",
    "plt.show()\n"
   ]
  },
  {
   "cell_type": "code",
   "execution_count": null,
   "metadata": {},
   "outputs": [],
   "source": [
    "# Testing the number of points for the polygon\n",
    "\n",
    "num_points = randomize_airspace.get_num_points_of_airspace(n_min=4, n_max=8)\n",
    "\n",
    "# Plot histogram of number of points as PDF\n",
    "plt.hist(num_points, bins=50, density=True, alpha=0.5, label='Sampled Distribution')\n",
    "plt.xlabel('Number of Points')\n",
    "plt.ylabel('Probability Density')\n",
    "plt.title('PDF of Sampled Number of Points')\n",
    "plt.grid(True)\n",
    "plt.show()\n"
   ]
  },
  {
   "cell_type": "code",
   "execution_count": null,
   "metadata": {},
   "outputs": [],
   "source": [
    "# Testing the unit polygon\n",
    "\n",
    "import numpy as np\n",
    "\n",
    "for i in range(10):\n",
    "    radius = radii[i]\n",
    "    n_points = num_points[i]\n",
    "\n",
    "    # Create subplot grid with 3 columns\n",
    "    if i % 3 == 0:\n",
    "        fig = plt.figure(figsize=(6, 2))\n",
    "    \n",
    "    plt.subplot(1, 3, (i % 3) + 1)\n",
    "    polygon, area = randomize_airspace.generate_unit_polygon(n_points, radius)\n",
    "    plt.plot(np.append(polygon[:, 0], polygon[0, 0]), \n",
    "             np.append(polygon[:, 1], polygon[0, 1]), \n",
    "             alpha=0.3)\n",
    "    plt.title(f'Radius: {radius:.2f} km, Points: {n_points}')\n",
    "    \n",
    "    # Close figure after every 3rd plot\n",
    "    if i % 3 == 2:\n",
    "        plt.tight_layout()\n",
    "\n"
   ]
  },
  {
   "cell_type": "code",
   "execution_count": null,
   "metadata": {},
   "outputs": [],
   "source": []
  }
 ],
 "metadata": {
  "kernelspec": {
   "display_name": "deepflow",
   "language": "python",
   "name": "python3"
  },
  "language_info": {
   "codemirror_mode": {
    "name": "ipython",
    "version": 3
   },
   "file_extension": ".py",
   "mimetype": "text/x-python",
   "name": "python",
   "nbconvert_exporter": "python",
   "pygments_lexer": "ipython3",
   "version": "3.12.4"
  }
 },
 "nbformat": 4,
 "nbformat_minor": 2
}
