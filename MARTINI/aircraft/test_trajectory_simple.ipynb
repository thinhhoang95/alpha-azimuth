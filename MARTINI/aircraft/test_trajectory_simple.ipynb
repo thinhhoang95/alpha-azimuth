{
 "cells": [
  {
   "cell_type": "code",
   "execution_count": 1,
   "metadata": {},
   "outputs": [],
   "source": [
    "%load_ext autoreload\n",
    "%autoreload 2\n",
    "\n",
    "import trajectory_simple as ts\n",
    "\n"
   ]
  },
  {
   "cell_type": "code",
   "execution_count": 4,
   "metadata": {},
   "outputs": [
    {
     "name": "stdout",
     "output_type": "stream",
     "text": [
      "[  0.          66.66666667 388.76889882]\n",
      "[    0.          8574.07406667 50000.        ]\n",
      "[0. 0. 0.]\n",
      "[10000  8000  8000]\n"
     ]
    }
   ],
   "source": [
    "# Flight plan\n",
    "fp_xy = [(0, 0), (50_000, 0)]\n",
    "fp_alt = [10_000, 8_000]\n",
    "fp_spd = [250, 250] \n",
    "\n",
    "marks_t, marks_x, marks_y, marks_h = ts.get_4d_trajectory_from_flight_plan(0, None, fp_spd, fp_alt, fp_xy, None)\n",
    "\n",
    "print(marks_t)\n",
    "print(marks_x)\n",
    "print(marks_y)\n",
    "print(marks_h)"
   ]
  },
  {
   "cell_type": "code",
   "execution_count": null,
   "metadata": {},
   "outputs": [],
   "source": []
  }
 ],
 "metadata": {
  "kernelspec": {
   "display_name": "deepflow",
   "language": "python",
   "name": "python3"
  },
  "language_info": {
   "codemirror_mode": {
    "name": "ipython",
    "version": 3
   },
   "file_extension": ".py",
   "mimetype": "text/x-python",
   "name": "python",
   "nbconvert_exporter": "python",
   "pygments_lexer": "ipython3",
   "version": "3.12.4"
  }
 },
 "nbformat": 4,
 "nbformat_minor": 2
}
